{
 "cells": [
  {
   "cell_type": "code",
   "execution_count": 14,
   "id": "4691c53c",
   "metadata": {},
   "outputs": [],
   "source": [
    "import tensorflow as tf\n",
    "import numpy as np\n",
    "import pandas as pd\n",
    "import math\n",
    "from keras.utils import to_categorical\n",
    "import matplotlib.pyplot as plt\n",
    "import tensorflow as tf\n",
    "from tensorflow.keras.models import Sequential\n",
    "from tensorflow.keras.layers import Conv2D, MaxPooling2D, Flatten, Dense, Dropout\n",
    "from sklearn.metrics import accuracy_score, precision_score, recall_score\n",
    "from sklearn.model_selection import train_test_split\n",
    "from sklearn.preprocessing import LabelEncoder"
   ]
  },
  {
   "cell_type": "code",
   "execution_count": 15,
   "id": "d4e61ee4",
   "metadata": {},
   "outputs": [],
   "source": [
    "#image dimensions\n",
    "img_rows,img_cols = 32,32"
   ]
  },
  {
   "cell_type": "code",
   "execution_count": 17,
   "id": "e24a3203",
   "metadata": {},
   "outputs": [
    {
     "data": {
      "text/plain": [
       "(92000, 1025)"
      ]
     },
     "execution_count": 17,
     "metadata": {},
     "output_type": "execute_result"
    }
   ],
   "source": [
    "#read csv dataset\n",
    "data = pd.read_csv('C:/Users/Asus/3D Objects/nhcr/dataset/data.csv')\n",
    "\n",
    "\n",
    "#get shape/dimension of dataset\n",
    "data.shape"
   ]
  },
  {
   "cell_type": "code",
   "execution_count": 18,
   "id": "2754e51e",
   "metadata": {},
   "outputs": [
    {
     "data": {
      "text/plain": [
       "True"
      ]
     },
     "execution_count": 18,
     "metadata": {},
     "output_type": "execute_result"
    }
   ],
   "source": [
    "# set target attribute\n",
    "'character' in data.columns\n",
    "\n"
   ]
  },
  {
   "cell_type": "code",
   "execution_count": 19,
   "id": "f1afb7e6",
   "metadata": {},
   "outputs": [],
   "source": [
    "# Split dataset into features (X) and target (y)-\n",
    "X = data.drop('character', axis = 1)\n",
    "y = data['character']\n",
    "\n",
    "# Convert to numpy arrays-\n",
    "X = X.values\n",
    "y = y.values"
   ]
  },
  {
   "cell_type": "code",
   "execution_count": 20,
   "id": "098a5873",
   "metadata": {},
   "outputs": [
    {
     "data": {
      "text/plain": [
       "((92000, 1024), (92000,))"
      ]
     },
     "execution_count": 20,
     "metadata": {},
     "output_type": "execute_result"
    }
   ],
   "source": [
    "X.shape, y.shape"
   ]
  },
  {
   "cell_type": "code",
   "execution_count": 21,
   "id": "6a6c36af",
   "metadata": {},
   "outputs": [
    {
     "data": {
      "text/plain": [
       "character\n",
       "character_01_ka              2000\n",
       "character_35_tra             2000\n",
       "character_26_yaw             2000\n",
       "character_27_ra              2000\n",
       "character_28_la              2000\n",
       "character_29_waw             2000\n",
       "character_30_motosaw         2000\n",
       "character_31_petchiryakha    2000\n",
       "character_32_patalosaw       2000\n",
       "character_33_ha              2000\n",
       "character_34_chhya           2000\n",
       "character_36_gya             2000\n",
       "character_02_kha             2000\n",
       "digit_0                      2000\n",
       "digit_1                      2000\n",
       "digit_2                      2000\n",
       "digit_3                      2000\n",
       "digit_4                      2000\n",
       "digit_5                      2000\n",
       "digit_6                      2000\n",
       "digit_7                      2000\n",
       "digit_8                      2000\n",
       "character_25_ma              2000\n",
       "character_24_bha             2000\n",
       "character_23_ba              2000\n",
       "character_22_pha             2000\n",
       "character_03_ga              2000\n",
       "character_04_gha             2000\n",
       "character_05_kna             2000\n",
       "character_06_cha             2000\n",
       "character_07_chha            2000\n",
       "character_08_ja              2000\n",
       "character_09_jha             2000\n",
       "character_10_yna             2000\n",
       "character_11_taamatar        2000\n",
       "character_12_thaa            2000\n",
       "character_13_daa             2000\n",
       "character_14_dhaa            2000\n",
       "character_15_adna            2000\n",
       "character_16_tabala          2000\n",
       "character_17_tha             2000\n",
       "character_18_da              2000\n",
       "character_19_dha             2000\n",
       "character_20_na              2000\n",
       "character_21_pa              2000\n",
       "digit_9                      2000\n",
       "Name: count, dtype: int64"
      ]
     },
     "execution_count": 21,
     "metadata": {},
     "output_type": "execute_result"
    }
   ],
   "source": [
    "# Check distribution of target attribute-\n",
    "data['character'].value_counts()"
   ]
  },
  {
   "cell_type": "code",
   "execution_count": 22,
   "id": "ceaa4958",
   "metadata": {},
   "outputs": [
    {
     "data": {
      "image/png": "[encoded data removed]",
      "text/plain": [
       "<Figure size 640x480 with 1 Axes>"
      ]
     },
     "metadata": {},
     "output_type": "display_data"
    }
   ],
   "source": [
    "# Visualize a character from dataset-\n",
    "plt.imshow(X[45000, :].reshape(32, 32))\n",
    "plt.show()"
   ]
  },
  {
   "cell_type": "code",
   "execution_count": 23,
   "id": "175a08d4",
   "metadata": {
    "scrolled": true
   },
   "outputs": [
    {
     "data": {
      "text/plain": [
       "(92000, 32, 32, 1)"
      ]
     },
     "execution_count": 23,
     "metadata": {},
     "output_type": "execute_result"
    }
   ],
   "source": [
    "# Reshape data for CNN-\n",
    "X_exp = X.reshape(X.shape[0], 32, 32, 1)\n",
    "X_exp.shape"
   ]
  },
  {
   "cell_type": "code",
   "execution_count": 24,
   "id": "c090a5c3",
   "metadata": {},
   "outputs": [],
   "source": [
    "# Label encode target attribute-\n",
    "\n",
    "# Initialize a label encoder-\n",
    "le = LabelEncoder()\n",
    "\n",
    "# Train label encoder on target attribute-\n",
    "y_transformed = le.fit_transform(y)\n"
   ]
  },
  {
   "cell_type": "code",
   "execution_count": 25,
   "id": "c588397d",
   "metadata": {},
   "outputs": [
    {
     "name": "stdout",
     "output_type": "stream",
     "text": [
      "number of classes = 46\n"
     ]
    }
   ],
   "source": [
    "# number of classes for target attribute-\n",
    "print(\"number of classes = {0}\".format(len(set(y))))"
   ]
  },
  {
   "cell_type": "code",
   "execution_count": 26,
   "id": "8186d14b",
   "metadata": {},
   "outputs": [],
   "source": [
    "# Split features and target attribute into training and testing sets-\n",
    "X_train, X_test, y_train, y_test = train_test_split(X_exp, y_transformed, test_size=0.2, random_state=42)"
   ]
  },
  {
   "cell_type": "code",
   "execution_count": 27,
   "id": "10f6a147",
   "metadata": {},
   "outputs": [],
   "source": [
    "# Convert into floating point\n",
    "X_train = X_train.astype('float32')\n",
    "X_test = X_test.astype('float32')\n",
    "\n",
    "# Normalize the training and testing datasets\n",
    "X_train /= 255.0\n",
    "X_test /= 255.0"
   ]
  },
  {
   "cell_type": "code",
   "execution_count": 28,
   "id": "6852a472",
   "metadata": {},
   "outputs": [],
   "source": [
    "num_classes = len(set(y))\n",
    "# convert class vectors/target to binary class matrices or one-hot encoded values-\n",
    "y_train = to_categorical(y_train, num_classes)\n",
    "y_test = to_categorical(y_test, num_classes)"
   ]
  },
  {
   "cell_type": "code",
   "execution_count": 29,
   "id": "dbd64cc0",
   "metadata": {},
   "outputs": [
    {
     "name": "stdout",
     "output_type": "stream",
     "text": [
      "\n",
      "Shapes of training and testing sets are:\n",
      "X_train = (73600, 32, 32, 1), y_train = (73600, 46)\n",
      "X_test = (18400, 32, 32, 1), y_test = (18400, 46)\n",
      "\n"
     ]
    }
   ],
   "source": [
    "print(\"\\nShapes of training and testing sets are:\")\n",
    "print(\"X_train = {0}, y_train = {1}\".format(X_train.shape, y_train.shape))\n",
    "print(\"X_test = {0}, y_test = {1}\\n\".format(X_test.shape, y_test.shape))"
   ]
  },
  {
   "cell_type": "code",
   "execution_count": 30,
   "id": "ccf8ea8b",
   "metadata": {},
   "outputs": [],
   "source": [
    "# Create training and testing datasets-\n",
    "train_dataset = tf.data.Dataset.from_tensor_slices((X_train, y_train))\n",
    "test_dataset = tf.data.Dataset.from_tensor_slices((X_test, y_test))"
   ]
  },
  {
   "cell_type": "code",
   "execution_count": null,
   "id": "85da6ce7",
   "metadata": {},
   "outputs": [],
   "source": [
    "# train_dataset = train_dataset.shuffle(buffer_size = 20000, reshuffle_each_iteration = True).batch(batch_size = 32, drop_remainder = False)\n",
    "# test_dataset = test_dataset.batch(batch_size=32, drop_remainder=False)"
   ]
  },
  {
   "cell_type": "code",
   "execution_count": 31,
   "id": "fe0fcf4b",
   "metadata": {},
   "outputs": [
    {
     "name": "stdout",
     "output_type": "stream",
     "text": [
      "Class Indices: {'character_01_ka': 0, 'character_02_kha': 1, 'character_03_ga': 2, 'character_04_gha': 3, 'character_05_kna': 4, 'character_06_cha': 5, 'character_07_chha': 6, 'character_08_ja': 7, 'character_09_jha': 8, 'character_10_yna': 9, 'character_11_taamatar': 10, 'character_12_thaa': 11, 'character_13_daa': 12, 'character_14_dhaa': 13, 'character_15_adna': 14, 'character_16_tabala': 15, 'character_17_tha': 16, 'character_18_da': 17, 'character_19_dha': 18, 'character_20_na': 19, 'character_21_pa': 20, 'character_22_pha': 21, 'character_23_ba': 22, 'character_24_bha': 23, 'character_25_ma': 24, 'character_26_yaw': 25, 'character_27_ra': 26, 'character_28_la': 27, 'character_29_waw': 28, 'character_30_motosaw': 29, 'character_31_petchiryakha': 30, 'character_32_patalosaw': 31, 'character_33_ha': 32, 'character_34_chhya': 33, 'character_35_tra': 34, 'character_36_gya': 35, 'digit_0': 36, 'digit_1': 37, 'digit_2': 38, 'digit_3': 39, 'digit_4': 40, 'digit_5': 41, 'digit_6': 42, 'digit_7': 43, 'digit_8': 44, 'digit_9': 45}\n"
     ]
    }
   ],
   "source": [
    "import pandas as pd\n",
    "\n",
    "# 'character' contains your class labels\n",
    "train_labels_series = pd.Series(data['character'])\n",
    "\n",
    "# Get unique classes and their indices\n",
    "unique_classes = train_labels_series.unique()\n",
    "class_indices = {class_name: index for index, class_name in enumerate(unique_classes)}\n",
    "\n",
    "# Print the class indices\n",
    "print(\"Class Indices:\", class_indices)"
   ]
  },
  {
   "cell_type": "code",
   "execution_count": null,
   "id": "8e27f2ac",
   "metadata": {},
   "outputs": [],
   "source": [
    "#creating cnn model\n",
    "\n",
    "model = Sequential()\n",
    "\n",
    "model.add(Conv2D(64, kernel_size=(3, 3), activation='relu', input_shape=(32, 32, 1)))\n",
    "model.add(MaxPooling2D(pool_size=(2, 2)))\n",
    "model.add(Dropout(0.2))\n",
    "\n",
    "model.add(Conv2D(128, kernel_size=(3, 3), activation='relu'))\n",
    "model.add(MaxPooling2D(pool_size=(2, 2)))\n",
    "model.add(Dropout(0.2))\n",
    "\n",
    "model.add(Flatten())\n",
    "\n",
    "model.add(Dense(128, activation='relu'))\n",
    "# model.add(Dropout(0.2))\n",
    "\n",
    "model.add(Dense(92, activation='relu'))\n",
    "model.add(Dropout(0.2))\n",
    "\n",
    "model.add(Dense(46, activation='softmax'))\n",
    "    \n",
    "model.compile(optimizer=tf.keras.optimizers.Adam(learning_rate = 0.0012), loss='categorical_crossentropy', metrics=['accuracy'])\n",
    "\n",
    "print(model.summary())\n"
   ]
  },
  {
   "cell_type": "code",
   "execution_count": null,
   "id": "9e24dcbe",
   "metadata": {},
   "outputs": [],
   "source": [
    "import pickle\n",
    "history = model.fit(\n",
    "    x = X_train, y = y_train,\n",
    "    epochs=25, batch_size=64,\n",
    "    verbose=1, shuffle=True,\n",
    "    validation_data=(X_test, y_test)\n",
    ")\n",
    "# Save history to a file\n",
    "with open('history.pkl', 'wb') as file:\n",
    "    pickle.dump(history.history, file)"
   ]
  },
  {
   "cell_type": "code",
   "execution_count": null,
   "id": "e3df4f8b",
   "metadata": {},
   "outputs": [],
   "source": [
    "# Evaluation of model on the test set\n",
    "test_loss, test_acc = model.evaluate(X_test, y_test)\n",
    "print(f'Test accuracy: {test_acc}')"
   ]
  },
  {
   "cell_type": "code",
   "execution_count": null,
   "id": "f35778b9",
   "metadata": {},
   "outputs": [],
   "source": [
    "model.save(\"25epochs.h5\")\n",
    "print(\"Model saved successfully.\")"
   ]
  },
  {
   "cell_type": "code",
   "execution_count": null,
   "id": "531138cb",
   "metadata": {},
   "outputs": [],
   "source": [
    "from sklearn.metrics import classification_report, confusion_matrix\n",
    "\n",
    "y_pred = model.predict(X_test)\n",
    "\n",
    "y_test_labels = np.argmax(y_test, axis=1)\n",
    "y_pred_labels = np.argmax(y_pred, axis=1)\n",
    "\n",
    "print(\"Classification Report:\")\n",
    "print(classification_report(y_test_labels, y_pred_labels))"
   ]
  },
  {
   "cell_type": "code",
   "execution_count": null,
   "id": "7c98cdb4",
   "metadata": {},
   "outputs": [],
   "source": [
    "print(\"Confusion Matrix:\")\n",
    "print(confusion_matrix(y_test_labels, y_pred_labels))"
   ]
  },
  {
   "cell_type": "code",
   "execution_count": null,
   "id": "8128ba6b",
   "metadata": {},
   "outputs": [],
   "source": [
    "import seaborn as sns\n",
    "import matplotlib.pyplot as plt\n",
    "from sklearn.metrics import confusion_matrix\n",
    "\n",
    "# Assuming you have class_names as a list of character names\n",
    "class_names = ['character_01_ka', 'character_02_kha', 'character_03_ga', 'character_04_gha', 'character_05_kna', 'character_06_cha', 'character_07_chha', 'character_08_ja', 'character_09_jha', 'character_10_yna', 'character_11_taamatar', 'character_12_thaa', 'character_13_daa', 'character_14_dhaa', 'character_15_adna', 'character_16_tabala', 'character_17_tha', 'character_18_da', 'character_19_dha', 'character_20_na', 'character_21_pa', 'character_22_pha', 'character_23_ba', 'character_24_bha', 'character_25_ma', 'character_26_yaw', 'character_27_ra', 'character_28_la', 'character_29_waw', 'character_30_motosaw', 'character_31_petchiryakha', 'character_32_patalosaw', 'character_33_ha', 'character_34_chhya', 'character_35_tra', 'character_36_gya', 'digit_0', 'digit_1', 'digit_2', 'digit_3', 'digit_4', 'digit_5', 'digit_6', 'digit_7', 'digit_8', 'digit_9']\n",
    "\n",
    "# Create confusion matrix\n",
    "cm = confusion_matrix(y_test_labels, y_pred_labels)\n",
    "\n",
    "# Set the color palette for the heatmap\n",
    "sns.set_palette(\"Blues\")\n",
    "\n",
    "# Plot confusion matrix as a heatmap\n",
    "plt.figure(figsize=(16, 14))  # Increase the figure size even more\n",
    "heatmap = sns.heatmap(cm, annot=True, fmt='d', cmap='gray', linewidths=.5, square=True, cbar = False)\n",
    "\n",
    "# Customize labels, title, and ticks\n",
    "plt.xlabel('Predicted Label')\n",
    "plt.ylabel('True Label')\n",
    "plt.title('Confusion Matrix')\n",
    "\n",
    "# Manually set tick labels and positions for all classes\n",
    "tick_positions = [i + 0.5 for i in range(len(class_names))]\n",
    "heatmap.set_xticks(tick_positions)\n",
    "heatmap.set_yticks(tick_positions)\n",
    "heatmap.set_xticklabels(class_names, rotation=90, ha='right')\n",
    "heatmap.set_yticklabels(class_names, rotation=0)\n",
    "\n",
    "# Display the plot\n",
    "plt.show()"
   ]
  },
  {
   "cell_type": "code",
   "execution_count": null,
   "id": "040944e5",
   "metadata": {},
   "outputs": [],
   "source": [
    "import pickle\n",
    "import matplotlib.pyplot as plt\n",
    "\n",
    "# Load history from file\n",
    "with open('history.pkl', 'rb') as file:\n",
    "    saved_history = pickle.load(file)\n",
    "                                \n",
    "# Plot training & validation accuracy values\n",
    "plt.figure(figsize=(10, 5))\n",
    "plt.plot(history.history['accuracy'])\n",
    "plt.plot(history.history['val_accuracy'])\n",
    "plt.title('Model Accuracy')\n",
    "plt.xlabel('Epoch')\n",
    "plt.ylabel('Accuracy')\n",
    "plt.legend(['Train', 'Validation'], loc='upper left')\n",
    "plt.grid(False)\n",
    "plt.show()"
   ]
  },
  {
   "cell_type": "code",
   "execution_count": null,
   "id": "4e48152c",
   "metadata": {},
   "outputs": [],
   "source": [
    "import pickle\n",
    "import matplotlib.pyplot as plt\n",
    "\n",
    "# Load history from file\n",
    "with open('history.pkl', 'rb') as file:\n",
    "    saved_history = pickle.load(file)\n",
    "# Plot training & validation loss values\n",
    "plt.figure(figsize=(10, 5))\n",
    "plt.plot(history.history['loss'])\n",
    "plt.plot(history.history['val_loss'])\n",
    "plt.title('Model Loss')\n",
    "plt.xlabel('Epoch')\n",
    "plt.ylabel('Loss')\n",
    "plt.legend(['Train', 'Validation'], loc='upper right')\n",
    "plt.grid(False)\n",
    "plt.show()"
   ]
  },
  {
   "cell_type": "code",
   "execution_count": null,
   "id": "041ed764",
   "metadata": {},
   "outputs": [],
   "source": [
    "import numpy as np\n",
    "import matplotlib.pyplot as plt\n",
    "from keras.models import load_model\n",
    "\n",
    "# Assuming 'X_test' is your test features and 'y_test' is your test labels\n",
    "# Assuming 'class_indices' is a dictionary mapping class names to indices\n",
    "\n",
    "# Select a few random indices from the test set\n",
    "random_indices = np.random.choice(len(X_test), size=50, replace=False)\n",
    "\n",
    "# Iterate through the selected indices\n",
    "for idx in random_indices:\n",
    "    # Get the input image and true label\n",
    "    input_image = X_test[idx]\n",
    "    true_label_index = y_test[idx]\n",
    "\n",
    "    # Ensure true_label_index is a scalar\n",
    "    true_label_index = np.argmax(true_label_index)\n",
    "\n",
    "    # Reshape the input image if needed\n",
    "    input_image = np.expand_dims(input_image, axis=0)\n",
    "\n",
    "    # Make a prediction\n",
    "    predicted_probs = model.predict(input_image)\n",
    "    predicted_label_index = np.argmax(predicted_probs)\n",
    "\n",
    "    # Map indices to class names\n",
    "    true_label_name = [k for k, v in class_indices.items() if v == true_label_index][0]\n",
    "    predicted_label_name = [k for k, v in class_indices.items() if v == predicted_label_index][0]\n",
    "\n",
    "    # Display the input image along with the true and predicted labels\n",
    "    plt.imshow(input_image[0, :, :, 0], cmap='gray')\n",
    "    plt.title(f\"True Label: {true_label_name}\\nPredicted Label: {predicted_label_name}\")\n",
    "    plt.show()"
   ]
  }
 ],
 "metadata": {
  "kernelspec": {
   "display_name": "Python 3 (ipykernel)",
   "language": "python",
   "name": "python3"
  },
  "language_info": {
   "codemirror_mode": {
    "name": "ipython",
    "version": 3
   },
   "file_extension": ".py",
   "mimetype": "text/x-python",
   "name": "python",
   "nbconvert_exporter": "python",
   "pygments_lexer": "ipython3",
   "version": "3.12.0"
  }
 },
 "nbformat": 4,
 "nbformat_minor": 5
}
